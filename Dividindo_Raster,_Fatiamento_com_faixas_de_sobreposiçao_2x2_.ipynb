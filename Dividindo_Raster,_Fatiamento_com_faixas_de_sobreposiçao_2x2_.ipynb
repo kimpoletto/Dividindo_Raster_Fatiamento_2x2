{
  "nbformat": 4,
  "nbformat_minor": 0,
  "metadata": {
    "colab": {
      "provenance": []
    },
    "kernelspec": {
      "name": "python3",
      "display_name": "Python 3"
    },
    "language_info": {
      "name": "python"
    }
  },
  "cells": [
    {
      "cell_type": "code",
      "source": [
        "from google.colab import drive\n",
        "drive.mount('/content/drive')"
      ],
      "metadata": {
        "colab": {
          "base_uri": "https://localhost:8080/"
        },
        "id": "QZqdpaczBwIs",
        "outputId": "c947bfd3-3a32-4180-ef5a-b3b1a59819ba"
      },
      "execution_count": 1,
      "outputs": [
        {
          "output_type": "stream",
          "name": "stdout",
          "text": [
            "Mounted at /content/drive\n"
          ]
        }
      ]
    },
    {
      "cell_type": "code",
      "source": [
        "!pip install rasterio"
      ],
      "metadata": {
        "colab": {
          "base_uri": "https://localhost:8080/"
        },
        "id": "9vh32FB2CFJm",
        "outputId": "024949e3-c5b5-46f8-8e93-20902ede8332"
      },
      "execution_count": 3,
      "outputs": [
        {
          "output_type": "stream",
          "name": "stdout",
          "text": [
            "Collecting rasterio\n",
            "  Downloading rasterio-1.3.8-cp310-cp310-manylinux_2_17_x86_64.manylinux2014_x86_64.whl (21.3 MB)\n",
            "\u001b[2K     \u001b[90m━━━━━━━━━━━━━━━━━━━━━━━━━━━━━━━━━━━━━━━━\u001b[0m \u001b[32m21.3/21.3 MB\u001b[0m \u001b[31m63.2 MB/s\u001b[0m eta \u001b[36m0:00:00\u001b[0m\n",
            "\u001b[?25hCollecting affine (from rasterio)\n",
            "  Downloading affine-2.4.0-py3-none-any.whl (15 kB)\n",
            "Requirement already satisfied: attrs in /usr/local/lib/python3.10/dist-packages (from rasterio) (23.1.0)\n",
            "Requirement already satisfied: certifi in /usr/local/lib/python3.10/dist-packages (from rasterio) (2023.7.22)\n",
            "Requirement already satisfied: click>=4.0 in /usr/local/lib/python3.10/dist-packages (from rasterio) (8.1.7)\n",
            "Requirement already satisfied: cligj>=0.5 in /usr/local/lib/python3.10/dist-packages (from rasterio) (0.7.2)\n",
            "Requirement already satisfied: numpy>=1.18 in /usr/local/lib/python3.10/dist-packages (from rasterio) (1.23.5)\n",
            "Collecting snuggs>=1.4.1 (from rasterio)\n",
            "  Downloading snuggs-1.4.7-py3-none-any.whl (5.4 kB)\n",
            "Requirement already satisfied: click-plugins in /usr/local/lib/python3.10/dist-packages (from rasterio) (1.1.1)\n",
            "Requirement already satisfied: setuptools in /usr/local/lib/python3.10/dist-packages (from rasterio) (67.7.2)\n",
            "Requirement already satisfied: pyparsing>=2.1.6 in /usr/local/lib/python3.10/dist-packages (from snuggs>=1.4.1->rasterio) (3.1.1)\n",
            "Installing collected packages: snuggs, affine, rasterio\n",
            "Successfully installed affine-2.4.0 rasterio-1.3.8 snuggs-1.4.7\n"
          ]
        }
      ]
    },
    {
      "cell_type": "code",
      "execution_count": 4,
      "metadata": {
        "id": "K2H1HXqyBHmV"
      },
      "outputs": [],
      "source": [
        "import os\n",
        "import rasterio\n",
        "import math\n",
        "\n",
        "path = '/content/drive/MyDrive/OmanChromiteResearch/WorldView/Pansharp_GROOVEY_truecolor_03m_052021.tif'\n",
        "\n",
        "with rasterio.open(path) as dataset:\n",
        "    # Calcular as dimensões de cada quadrante considerando a sobreposição\n",
        "    # Primeiro, calculamos a largura e a altura de cada quadrante sem a sobreposição\n",
        "    base_width_quadrant = dataset.width // 2\n",
        "    base_height_quadrant = dataset.height // 2\n",
        "\n",
        "    # Então adicionamos 10% do tamanho do quadrante como sobreposição\n",
        "    width_quadrant = math.ceil(base_width_quadrant * 1.1)\n",
        "    height_quadrant = math.ceil(base_height_quadrant * 1.1)\n",
        "\n",
        "    # Iterando sobre cada quadrante na matriz de 2x2\n",
        "    for i in range(2):\n",
        "        for j in range(2):\n",
        "            # Definir o nome do novo arquivo\n",
        "            new_file_path = os.path.splitext(path)[0] + f'_quadrant_{i + 1}_{j + 1}.tif'\n",
        "\n",
        "            # Calcular as coordenadas de origem do quadrante, considerando a sobreposição\n",
        "            x_offset = max(0, i * base_width_quadrant - math.ceil(base_width_quadrant * 0.1))\n",
        "            y_offset = max(0, j * base_height_quadrant - math.ceil(base_height_quadrant * 0.1))\n",
        "\n",
        "            # Calcular a largura e altura do quadrante, considerando a sobreposição e as bordas da imagem\n",
        "            quadrant_width = min(width_quadrant, dataset.width - x_offset)\n",
        "            quadrant_height = min(height_quadrant, dataset.height - y_offset)\n",
        "\n",
        "            # Atualizar a transformação para o novo quadrante\n",
        "            new_transform = rasterio.Affine.translation(x_offset * dataset.transform.a, y_offset * dataset.transform.e) * dataset.transform\n",
        "\n",
        "            # Definir os metadados para o novo arquivo\n",
        "            new_metadata = dataset.meta.copy()\n",
        "            new_metadata.update({\n",
        "                'width': quadrant_width,\n",
        "                'height': quadrant_height,\n",
        "                'transform': new_transform\n",
        "            })\n",
        "\n",
        "            # Criar e escrever o novo arquivo GeoTIFF\n",
        "            with rasterio.open(new_file_path, 'w', **new_metadata) as dest:\n",
        "                for band_id in range(1, dataset.count + 1):\n",
        "                    data = dataset.read(band_id, window=((y_offset, y_offset + quadrant_height), (x_offset, x_offset + quadrant_width)))\n",
        "                    dest.write(data, band_id)\n"
      ]
    }
  ]
}